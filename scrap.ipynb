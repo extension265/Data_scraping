{
 "cells": [
  {
   "cell_type": "code",
   "execution_count": null,
   "metadata": {},
   "outputs": [],
   "source": [
    "conda install -c anaconda beautifulsoup4"
   ]
  },
  {
   "cell_type": "code",
   "execution_count": null,
   "metadata": {},
   "outputs": [],
   "source": [
    "pip install lxml"
   ]
  },
  {
   "cell_type": "code",
   "execution_count": null,
   "metadata": {},
   "outputs": [],
   "source": [
    "pip install requests"
   ]
  },
  {
   "cell_type": "code",
   "execution_count": null,
   "metadata": {},
   "outputs": [],
   "source": [
    "import requests\n",
    "import csv\n",
    "from bs4 import BeautifulSoup\n",
    "import lxml\n",
    "import csv\n",
    "import re"
   ]
  },
  {
   "cell_type": "code",
   "execution_count": null,
   "metadata": {},
   "outputs": [],
   "source": [
    "page = requests.get('https://www.matchesfashion.com/intl/mens/shop/shoes').text\n",
    "soup = BeautifulSoup(page, 'lxml')"
   ]
  },
  {
   "cell_type": "code",
   "execution_count": null,
   "metadata": {},
   "outputs": [],
   "source": [
    "product = soup.find('ul',class_='lister__wrapper')\n",
    " \n",
    "file = open('scrap_site.csv', 'wb')\n",
    "writer = csv.writer(file)\n",
    " \n",
    "# write title row\n",
    "writer.writerow(['Product', 'Price', 'Product_url','Image_url'])\n",
    " \n",
    "for channel in channels:\n",
    "    product_name = product.find('a',class_='lister__item__title')\n",
    "    price = channel.find('div', attrs={'style': 'float: left; width: 350px; line-height: 25px;'}).a.text.strip()\n",
    "    product_url = channel.find('div', attrs={'style': 'float: left; width: 80px;'}).span.text.strip()\n",
    "    image_url = channel.find_all('div', attrs={'style': 'float: left; width: 150px;'})[1].span.text.strip()\n",
    " \n",
    "    print product_name + ' ' + price + ' ' + product_url + ' ' +image_url\n",
    "    writer.writerow([product_name.encode('utf-8'), price.encode('utf-8'), product_url.encode('utf-8'),image_url.encode('utf-8')])\n",
    " \n",
    "file.close()\n",
    "\n"
   ]
  },
  {
   "cell_type": "code",
   "execution_count": null,
   "metadata": {},
   "outputs": [],
   "source": []
  },
  {
   "cell_type": "code",
   "execution_count": null,
   "metadata": {},
   "outputs": [],
   "source": []
  },
  {
   "cell_type": "code",
   "execution_count": null,
   "metadata": {},
   "outputs": [],
   "source": []
  }
 ],
 "metadata": {
  "kernelspec": {
   "display_name": "Python 3",
   "language": "python",
   "name": "python3"
  },
  "language_info": {
   "codemirror_mode": {
    "name": "ipython",
    "version": 3
   },
   "file_extension": ".py",
   "mimetype": "text/x-python",
   "name": "python",
   "nbconvert_exporter": "python",
   "pygments_lexer": "ipython3",
   "version": "3.7.6"
  }
 },
 "nbformat": 4,
 "nbformat_minor": 4
}
